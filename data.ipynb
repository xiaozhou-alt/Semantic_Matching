{
 "cells": [
  {
   "cell_type": "code",
   "execution_count": 2,
   "metadata": {},
   "outputs": [
    {
     "name": "stdout",
     "output_type": "stream",
     "text": [
      "文件1样本数: 100000\n",
      "文件2样本数: 300000\n",
      "合并前总样本数: 400000\n",
      "合并后总样本数: 400000\n",
      "合并完成，结果已保存到 ./data/train.tsv\n",
      "验证通过：合并后样本数等于两个文件样本数之和\n"
     ]
    }
   ],
   "source": [
    "import pandas as pd\n",
    "\n",
    "# 定义文件路径\n",
    "file1 = './data/gaiic_track3_round1_train_20210228.tsv'\n",
    "file2 = './data/gaiic_track3_round2_train_20210407.tsv'\n",
    "output_file = './data/train.tsv'\n",
    "\n",
    "# 读取两个TSV文件并统计数量\n",
    "df1 = pd.read_csv(file1, sep='\\t', header=None)\n",
    "df2 = pd.read_csv(file2, sep='\\t', header=None)\n",
    "\n",
    "print(f'文件1样本数: {len(df1)}')\n",
    "print(f'文件2样本数: {len(df2)}')\n",
    "print(f'合并前总样本数: {len(df1) + len(df2)}')\n",
    "\n",
    "# 合并数据\n",
    "merged_df = pd.concat([df1, df2], ignore_index=True)\n",
    "\n",
    "# 保存合并后的文件\n",
    "merged_df.to_csv(output_file, sep='\\t', header=False, index=False)\n",
    "\n",
    "print(f'合并后总样本数: {len(merged_df)}')\n",
    "print(f'合并完成，结果已保存到 {output_file}')\n",
    "\n",
    "# 验证合并是否正确\n",
    "if len(merged_df) == len(df1) + len(df2):\n",
    "    print('验证通过：合并后样本数等于两个文件样本数之和')\n",
    "else:\n",
    "    print('警告：合并后样本数与预期不符')"
   ]
  }
 ],
 "metadata": {
  "kernelspec": {
   "display_name": "base",
   "language": "python",
   "name": "python3"
  },
  "language_info": {
   "codemirror_mode": {
    "name": "ipython",
    "version": 3
   },
   "file_extension": ".py",
   "mimetype": "text/x-python",
   "name": "python",
   "nbconvert_exporter": "python",
   "pygments_lexer": "ipython3",
   "version": "3.7.0"
  }
 },
 "nbformat": 4,
 "nbformat_minor": 2
}
